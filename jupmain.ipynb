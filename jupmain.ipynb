{
 "cells": [
  {
   "cell_type": "code",
   "execution_count": 1,
   "metadata": {},
   "outputs": [],
   "source": [
    "from selenium import webdriver\n",
    "from selenium.webdriver.common.by import By\n",
    "from selenium.webdriver.common.action_chains import ActionChains\n",
    "from selenium.webdriver.common.keys import Keys\n",
    "from selenium.webdriver.support.ui import WebDriverWait\n",
    "from selenium.webdriver.support import expected_conditions as EC\n",
    "import time\n",
    "import dep.arcturis as arc\n",
    "import gpt as kadabra\n",
    "\n",
    "from openai import OpenAI"
   ]
  },
  {
   "cell_type": "code",
   "execution_count": 2,
   "metadata": {},
   "outputs": [],
   "source": [
    "#initializaion, login and problem select\n",
    "client = OpenAI()\n",
    "\n",
    "language = 'Python'\n",
    "\n",
    "options = webdriver.FirefoxOptions()\n",
    "driver = webdriver.Firefox(options=options)\n",
    "driver.get(\"https://leetcode.com/accounts/login/\")\n",
    "\n",
    "\n",
    "def wait_and_find_element(driver, by, value):\n",
    "    return WebDriverWait(driver, 10).until(EC.presence_of_element_located((by, value)))\n",
    "\n",
    "login_field = wait_and_find_element(driver, By.ID, \"id_login\")\n",
    "login_field.send_keys(arc.e)    \n",
    "\n",
    "password_field = wait_and_find_element(driver, By.ID, \"id_password\")\n",
    "password_field.send_keys(arc.p)\n",
    "\n",
    "EC.element_to_be_clickable((By.XPATH, \"//div[@class='btn-content-container__2HVS']/span[text()='Sign In']\"))\n",
    "WebDriverWait(driver, 10).until(EC.invisibility_of_element_located((By.ID, \"initial-loading\")))\n",
    "\n",
    "# Find the \"Sign In\" button\n",
    "sign_in_button = wait_and_find_element(driver,By.XPATH, \"//div[@class='btn-content-container__2HVS']/span[text()='Sign In']\")\n",
    "\n",
    "driver.execute_script(\"arguments[0].scrollIntoView(true);\", sign_in_button)\n",
    "\n",
    "time.sleep(5)\n",
    "sign_in_button.click()\n",
    "time.sleep(3)\n",
    "\n",
    "\n",
    "problems = wait_and_find_element(driver, By.XPATH,\"//a[@href='/problemset/all/']\")\n",
    "problems.click()\n",
    "\n",
    "pickone = wait_and_find_element(driver, By.XPATH,\"//div[contains(@class, 'ml-auto')]\")\n",
    "# Click the button  \n",
    "pickone.click()"
   ]
  },
  {
   "cell_type": "code",
   "execution_count": 3,
   "metadata": {},
   "outputs": [],
   "source": [
    "#pophandler loop\n",
    "def click_next_button(driver):\n",
    "    #find all of the elements in the navbar with \"cursor-pointer\" and click the 3rd one (next problem)\n",
    "    navbar = wait_and_find_element(driver, By.CLASS_NAME,\"z-nav-1\")\n",
    "    buttons = navbar.find_elements(By.CLASS_NAME,\"cursor-pointer\")\n",
    "    buttons[2].click()  \n",
    "\n",
    "def handle_subscribe_popup(driver):\n",
    "    while True:\n",
    "        try:\n",
    "            # Check for the subscribe popup\n",
    "            subscribe_popup = WebDriverWait(driver, 4).until(                \n",
    "                EC.visibility_of_element_located((By.XPATH, \"//div[contains(text(), 'Subscribe to unlock.')]\"))\n",
    "            )\n",
    "\n",
    "            click_next_button(driver)\n",
    "                \n",
    "\n",
    "        except:\n",
    "            # If the subscribe popup is not found, break out of the loop\n",
    "            break\n",
    "\n",
    "  \n",
    "\n",
    "#need to check language and continue looping through pop up check\n",
    "handle_subscribe_popup(driver)\n"
   ]
  },
  {
   "cell_type": "code",
   "execution_count": 90,
   "metadata": {},
   "outputs": [
    {
     "name": "stdout",
     "output_type": "stream",
     "text": [
      "C++\n"
     ]
    }
   ],
   "source": [
    "#language checker\n",
    "\"\"\"\n",
    "4.9.24 - need to check the language, select the language I want\n",
    " try working in python first in case of debug or formatting issues\n",
    "\"\"\"\n",
    "\n",
    "\n",
    "# Find the button element within the div element\n",
    "button = wait_and_find_element(driver, By.CSS_SELECTOR, \".rounded.items-center.whitespace-nowrap.focus\\\\:outline-none.inline-flex.bg-transparent.dark\\\\:bg-dark-transparent.text-text-secondary.dark\\\\:text-text-secondary.active\\\\:bg-transparent.dark\\\\:active\\\\:bg-dark-transparent.hover\\\\:bg-fill-secondary.dark\\\\:hover\\\\:bg-fill-secondary.px-1\\\\.5.py-0\\\\.5.text-sm.font-normal.group\")\n",
    "\n",
    "# Print the text of the button\n",
    "print(button.text)\n",
    "\n",
    "time.sleep(1)\n",
    "button.click()\n",
    "\n",
    "element = wait_and_find_element(driver, By.XPATH, \"//div[contains(text(), 'C++')]\")\n",
    "time.sleep(1)\n",
    "# Click the element\n",
    "element.click()\n"
   ]
  },
  {
   "cell_type": "code",
   "execution_count": 94,
   "metadata": {},
   "outputs": [],
   "source": [
    "#this works to pick the python button\n",
    "button = wait_and_find_element(driver, By.CSS_SELECTOR, \".rounded.items-center.whitespace-nowrap.focus\\\\:outline-none.inline-flex.bg-transparent.dark\\\\:bg-dark-transparent.text-text-secondary.dark\\\\:text-text-secondary.active\\\\:bg-transparent.dark\\\\:active\\\\:bg-dark-transparent.hover\\\\:bg-fill-secondary.dark\\\\:hover\\\\:bg-fill-secondary.px-1\\\\.5.py-0\\\\.5.text-sm.font-normal.group\")\n",
    "button.click()\n",
    "element = wait_and_find_element(driver, By.XPATH, \"//div[@class='group flex min-w-[140px] cursor-pointer items-center justify-between rounded-[4px] py-[6px] pl-[6px] pr-3 hover:bg-fill-tertiary dark:hover:bg-fill-tertiary']//div[contains(text(), 'Python')]\")\n",
    "element.click()\n"
   ]
  },
  {
   "cell_type": "code",
   "execution_count": null,
   "metadata": {},
   "outputs": [],
   "source": [
    "language = \"Python\"\n",
    "\n",
    "def solution_ai(driver,language):\n",
    "    time.sleep(3)\n",
    "    #extract the text in the problem, send it into the gpt prompt, clear the field, input sol \n",
    "\n",
    "    description_element = wait_and_find_element(driver,By.CLASS_NAME,'elfjS')\n",
    "    description_text = description_element.text\n",
    "\n",
    "    code_block_element = wait_and_find_element(driver,By.CSS_SELECTOR,'.view-lines')\n",
    "   \n",
    "    code_block_text = code_block_element.text\n",
    "\n",
    "    line_elements = code_block_element.find_elements(By.CLASS_NAME, 'view-line')\n",
    "\n",
    "    sol = kadabra.main(f\"I would like you to solve a problem in {language}, please only return code, do not inlcude any additional text and do not add comments within the code, do not use use any shortcuts for brevity (write the entire solution) and do not add ```cpp or ``` at the beginning or end of the solution. Here is the description of the problem: {description_text} and use this format to provide the solution {code_block_text}\")\n",
    "\n",
    "    container = wait_and_find_element(driver, By.CLASS_NAME, \"view-lines.monaco-mouse-cursor-text\")\n",
    "    #clear cells\n",
    "    driver.execute_script(\"arguments[0].innerText = '';\", container)\n",
    "    block_of_text = sol\n",
    "    #use javascript to import solutions\n",
    "    driver.execute_script(\"arguments[0].innerText = arguments[1];\", container, block_of_text)\n",
    "    print(sol)\n",
    "\n",
    "solution_ai(driver,language)\n",
    "\n"
   ]
  },
  {
   "cell_type": "code",
   "execution_count": null,
   "metadata": {},
   "outputs": [],
   "source": []
  },
  {
   "cell_type": "code",
   "execution_count": 6,
   "metadata": {},
   "outputs": [
    {
     "name": "stdout",
     "output_type": "stream",
     "text": [
      "Number of lines in solution: 25\n",
      "#include <vector>\n",
      "\n",
      "using namespace std;\n",
      "\n",
      "class Solution {\n",
      "public:\n",
      "    int findDuplicate(vector<int>& nums) {\n",
      "        int slow = nums[0];\n",
      "        int fast = nums[0];\n",
      "        \n",
      "        do {\n",
      "            slow = nums[slow];\n",
      "            fast = nums[nums[fast]];\n",
      "        }while (slow != fast);\n",
      "\n",
      "        slow = nums[0];\n",
      "\n",
      "        while (slow != fast) {\n",
      "            slow = nums[slow];\n",
      "            fast = nums[fast];\n",
      "        }\n",
      "\n",
      "        return fast;\n",
      "    }\n",
      "};\n"
     ]
    }
   ],
   "source": [
    "\n",
    "language = \"C++\"\n",
    "sol = ''\n",
    "def solution_ai2(driver, language):\n",
    "    time.sleep(3)\n",
    "    global sol\n",
    "    \n",
    "    # Extract the text in the problem\n",
    "    description_element = wait_and_find_element(driver, By.CLASS_NAME, 'elfjS')\n",
    "    description_text = description_element.text\n",
    "\n",
    "    code_block_element = wait_and_find_element(driver, By.CSS_SELECTOR, '.view-lines')\n",
    "    code_block_text = code_block_element.text    \n",
    "\n",
    "    sol = kadabra.main(f\"I would like you to solve a problem in {language}, please only return code, do not include any additional text and do not add comments within the code, do not use any shortcuts for brevity (write the entire solution) and do not add ```cpp or ``` at the beginning or end of the solution. Here is the description of the problem: {description_text} and use this format to provide the solution {code_block_text}\")\n",
    "    num_lines = len(sol.split('\\n'))\n",
    "\n",
    "    container = wait_and_find_element(driver, By.CLASS_NAME, \"view-lines.monaco-mouse-cursor-text\")\n",
    "    \n",
    "    # Clear cells\n",
    "    driver.execute_script(\"arguments[0].innerText = '';\", container)\n",
    "    \n",
    "    # Add newline characters before inserting the block of text\n",
    "    block_of_text = '\\n'.join(sol.split('\\n'))\n",
    "    \n",
    "    # Use JavaScript to import solutions\n",
    "    driver.execute_script(\"arguments[0].innerText = arguments[1];\", container, block_of_text)\n",
    "    \n",
    "    print(f\"Number of lines in solution: {num_lines}\")\n",
    "    print(sol)\n",
    "\n",
    "solution_ai2(driver, language)\n"
   ]
  },
  {
   "cell_type": "code",
   "execution_count": 141,
   "metadata": {},
   "outputs": [
    {
     "name": "stdout",
     "output_type": "stream",
     "text": [
      "4\n"
     ]
    }
   ],
   "source": [
    "print(sol.count('}'))"
   ]
  },
  {
   "cell_type": "code",
   "execution_count": 77,
   "metadata": {},
   "outputs": [],
   "source": [
    "#This works to press enter and backspace, particularly on a fresh instance\n",
    "time.sleep(3)\n",
    "\n",
    "length = len(sol.split('\\n'))\n",
    "\n",
    "clicktry = wait_and_find_element(driver, By.XPATH,\"//div[@class='view-line']\")\n",
    "\n",
    "ActionChains(driver).move_to_element(clicktry).send_keys(Keys.ENTER).perform()\n",
    "\n",
    "ActionChains(driver).move_to_element(clicktry).send_keys(Keys.BACKSPACE).perform()\n",
    "\n",
    "\n",
    "\n"
   ]
  },
  {
   "cell_type": "code",
   "execution_count": null,
   "metadata": {},
   "outputs": [],
   "source": [
    "#try pressing enter on element\n",
    "time.sleep(4)\n",
    "container = wait_and_find_element(driver, By.CLASS_NAME, \"view-lines.monaco-mouse-cursor-text\")\n",
    "element = container.find_elements(By.CLASS_NAME, 'view-line')\n",
    "\n",
    "for num in range(20):\n",
    "    driver.execute_script(\"arguments[0].dispatchEvent(new KeyboardEvent('keydown', {key: 'Enter'}));\", container)\n",
    "\n",
    "    from selenium.webdriver.common.keys import Keys\n",
    "from selenium.webdriver.common.action_chains import ActionChains\n",
    "\n",
    "# Find the element you want to interact with\n",
    "element = driver.find_element_by_xpath(\"//div[@class='view-line']\")\n",
    "\n",
    "# Perform the key press action to simulate pressing Enter\n",
    "ActionChains(driver).move_to_element(element).send_keys(Keys.ENTER).perform()\n"
   ]
  },
  {
   "cell_type": "code",
   "execution_count": 87,
   "metadata": {},
   "outputs": [
    {
     "name": "stdout",
     "output_type": "stream",
     "text": [
      "Number of view-line elements: 9\n"
     ]
    }
   ],
   "source": [
    "#I may need to find new selectors for the code editor field\n",
    "\n",
    "#I want to have a script to count how many line elements exist\n",
    "\n",
    "from selenium import webdriver\n",
    "from selenium.webdriver.common.by import By\n",
    "\n",
    "\n",
    "container = driver.find_element(By.CLASS_NAME, \"view-lines\")\n",
    "\n",
    "# Find all elements with the class name 'view-line' within the container\n",
    "view_lines = container.find_elements(By.CLASS_NAME, \"view-line\")\n",
    "\n",
    "driver.execute_script(\"arguments[0].scrollIntoView(false);\", container)\n",
    "\n",
    "# Count the number of 'view-line' elements\n",
    "num_view_lines = len(view_lines)\n",
    "# Output the count\n",
    "print(\"Number of view-line elements:\", num_view_lines)\n",
    "\n"
   ]
  },
  {
   "cell_type": "code",
   "execution_count": 122,
   "metadata": {},
   "outputs": [
    {
     "name": "stdout",
     "output_type": "stream",
     "text": [
      "loop arrows\n",
      "loop arrows\n",
      "loop arrows\n"
     ]
    }
   ],
   "source": [
    "#works to press enter, backspace, up, down, and sending text with an actionchains\n",
    "\n",
    "\n",
    "time.sleep(3)\n",
    "\n",
    "container2 = wait_and_find_element(driver, By.CLASS_NAME, \"view-lines.monaco-mouse-cursor-text\")\n",
    "\n",
    "\n",
    "ActionChains(driver).move_to_element(container2).send_keys(Keys.ARROW_UP).perform()\n",
    "\n",
    "time.sleep(1)\n",
    "\n",
    "\n",
    "\n",
    "for _ in range(3):\n",
    "    time.sleep(1)\n",
    "    container3 = wait_and_find_element(driver, By.CLASS_NAME, \"view-lines.monaco-mouse-cursor-text\")\n",
    "    ActionChains(driver).move_to_element(container3).send_keys(Keys.ARROW_UP).perform()\n",
    "    print('loop arrows')\n",
    "\n",
    "\n",
    "\n",
    "\n",
    "element = wait_and_find_element(driver, By.XPATH, \"//div[@class='view-line']\")\n",
    "\n",
    "ActionChains(driver).move_to_element(container2).send_keys(\"test\").perform()\n",
    "\n",
    "\n"
   ]
  },
  {
   "cell_type": "code",
   "execution_count": 137,
   "metadata": {},
   "outputs": [],
   "source": [
    "#need to use my new skills to insert the solution properly \n",
    "\n",
    "litch = sol.split('\\n')\n",
    "\n",
    "textwindow = wait_and_find_element(driver, By.CLASS_NAME, \"view-lines.monaco-mouse-cursor-text\")\n",
    "element = wait_and_find_element(driver, By.XPATH, \"//div[@class='view-line']\")\n",
    "\n",
    "for line in litch:\n",
    "    ActionChains(driver).move_to_element(textwindow).send_keys(line).perform()\n",
    "    ActionChains(driver).move_to_element(textwindow).send_keys(Keys.ENTER).perform()\n",
    "\n",
    "#press format code\n",
    "\n",
    "formatcode = driver.find_element_by_xpath(\"//svg[@data-icon='align-left']\")\n",
    "\n",
    "# Click the SVG button\n",
    "formatcode.click()\n",
    "\n",
    "\n"
   ]
  },
  {
   "cell_type": "code",
   "execution_count": 135,
   "metadata": {},
   "outputs": [],
   "source": [
    "\n",
    "time.sleep(2)\n",
    "\n",
    "#this clears the text\n",
    "\n",
    "code_block_element = wait_and_find_element(driver, By.CSS_SELECTOR, '.view-lines')\n",
    "charstoclear = len(code_block_element.text)\n",
    "\n",
    "textwindow = wait_and_find_element(driver, By.CLASS_NAME, \"view-lines.monaco-mouse-cursor-text\")\n",
    "\n",
    "textwindow.click()\n",
    "# for _ in range(30):\n",
    "#     textwindow = wait_and_find_element(driver, By.CLASS_NAME, \"view-lines.monaco-mouse-cursor-text\")\n",
    "#     ActionChains(driver).move_to_element(textwindow).send_keys(Keys.ARROW_DOWN).perform()\n",
    "\n",
    "for _ in range(charstoclear+charstoclear):\n",
    "    textwindow = wait_and_find_element(driver, By.CLASS_NAME, \"view-lines.monaco-mouse-cursor-text\")\n",
    "    ActionChains(driver).move_to_element(textwindow).send_keys(Keys.BACKSPACE).perform()\n"
   ]
  },
  {
   "cell_type": "code",
   "execution_count": 5,
   "metadata": {},
   "outputs": [],
   "source": [
    "#official\n",
    "\n",
    "\n",
    "solution = ''\n",
    "def solution_input(driver, language):\n",
    "    #extracts the description and pre-formatted code, inserts into a gpt prompt\n",
    "    #clears the text window and inserts the solution\n",
    "\n",
    "    global solution\n",
    "    \n",
    "    description_element = wait_and_find_element(driver, By.CLASS_NAME, 'elfjS')\n",
    "    description_text = description_element.text\n",
    "\n",
    "    code_block_element = wait_and_find_element(driver, By.CSS_SELECTOR, '.view-lines')\n",
    "    code_block_text = code_block_element.text    \n",
    "\n",
    "    solution = kadabra.main(f\"I would like you to solve a problem in {language}, please only return code, do not include any additional text and do not add comments within the code, do not use any shortcuts for brevity (write the entire solution) and do not add ```cpp or ``` at the beginning or end of the solution. Here is the description of the problem: {description_text} and use this format to provide the solution {code_block_text}\")\n",
    "\n",
    "    charstoclear = len(code_block_element.text)\n",
    "\n",
    "    textwindow = wait_and_find_element(driver, By.CLASS_NAME, \"view-lines.monaco-mouse-cursor-text\")\n",
    "    textwindow.click()\n",
    "\n",
    "    #press down arrow the length of code block text in case text.window.click() is not at the bottom (to start clearing)\n",
    "    for _ in range(len(code_block_text.split('\\n'))+7):\n",
    "        textwindow = wait_and_find_element(driver, By.CLASS_NAME, \"view-lines.monaco-mouse-cursor-text\")\n",
    "        ActionChains(driver).move_to_element(textwindow).send_keys(Keys.ARROW_DOWN).perform()\n",
    "\n",
    "    #press backspace double the amount of characters in the string of code_block_text to clear the window\n",
    "    for _ in range(charstoclear + charstoclear):\n",
    "        textwindow = wait_and_find_element(driver, By.CLASS_NAME, \"view-lines.monaco-mouse-cursor-text\")\n",
    "        ActionChains(driver).move_to_element(textwindow).send_keys(Keys.BACKSPACE).perform()\n",
    "\n",
    "    litch = solution.split('\\n')\n",
    "\n",
    "    for line in litch:\n",
    "        ActionChains(driver).move_to_element(textwindow).send_keys(line).perform()\n",
    "        ActionChains(driver).move_to_element(textwindow).send_keys(Keys.ENTER).perform()\n",
    "    \n",
    "    \n",
    "\n"
   ]
  },
  {
   "cell_type": "code",
   "execution_count": null,
   "metadata": {},
   "outputs": [],
   "source": [
    "#have to click run before submit"
   ]
  },
  {
   "cell_type": "code",
   "execution_count": 6,
   "metadata": {},
   "outputs": [],
   "source": [
    "def click_submit(driver):\n",
    "    #click submit \n",
    "    submit = wait_and_find_element(driver,By.CSS_SELECTOR, \"button[data-e2e-locator='console-submit-button']\")\n",
    "    submit.click()\n",
    "# click_submit(driver)"
   ]
  },
  {
   "cell_type": "code",
   "execution_count": 198,
   "metadata": {},
   "outputs": [],
   "source": [
    "click_next_button(driver)"
   ]
  },
  {
   "cell_type": "code",
   "execution_count": 212,
   "metadata": {},
   "outputs": [],
   "source": [
    "time.sleep(3)\n",
    "handle_subscribe_popup(driver)"
   ]
  },
  {
   "cell_type": "code",
   "execution_count": 204,
   "metadata": {},
   "outputs": [],
   "source": [
    "time.sleep(3)\n",
    "solution_input(driver,'C++')"
   ]
  },
  {
   "cell_type": "code",
   "execution_count": 7,
   "metadata": {},
   "outputs": [],
   "source": [
    "def format(driver):\n",
    "    time.sleep(1)\n",
    "    thiscontainer = WebDriverWait(driver, 1).until(\n",
    "        EC.visibility_of_element_located((By.CLASS_NAME, \"flex.h-8.items-center.justify-between.border-b.p-1.border-border-quaternary\"))\n",
    "    )\n",
    "    # click format code button\n",
    "    button = thiscontainer.find_element(By.CSS_SELECTOR, \"button[data-state='closed']\")\n",
    "    button.click()\n",
    "    \n",
    "    textwindow = wait_and_find_element(driver, By.CLASS_NAME, \"view-lines.monaco-mouse-cursor-text\")\n",
    "    textwindow.click()\n",
    "    # \"scroll\" down to the bottom\n",
    "    for _ in range(len(solution.split('\\n')) + 25):\n",
    "        textwindow = wait_and_find_element(driver, By.CLASS_NAME, \"view-lines.monaco-mouse-cursor-text\")\n",
    "        ActionChains(driver).move_to_element(textwindow).send_keys(Keys.ARROW_DOWN).perform()\n",
    "\n",
    "    #remove the extra closing brackets in the formatted code\n",
    "    extras = solution.count('}')\n",
    "    for _ in range((extras * 2) - 2):\n",
    "        ActionChains(driver).move_to_element(textwindow).send_keys(Keys.BACKSPACE).perform()\n",
    "\n",
    "\n"
   ]
  },
  {
   "cell_type": "code",
   "execution_count": 205,
   "metadata": {},
   "outputs": [],
   "source": [
    "format(driver)"
   ]
  },
  {
   "cell_type": "code",
   "execution_count": 206,
   "metadata": {},
   "outputs": [
    {
     "data": {
      "text/plain": [
       "'<selenium.webdriver.firefox.webdriver.WebDriver (session=\"911c548c-fa06-4b96-8712-4ae11977f0fa\")>'"
      ]
     },
     "execution_count": 206,
     "metadata": {},
     "output_type": "execute_result"
    }
   ],
   "source": [
    "\n"
   ]
  },
  {
   "cell_type": "code",
   "execution_count": 8,
   "metadata": {},
   "outputs": [],
   "source": [
    "def click_format_button(driver):\n",
    "    time.sleep(1)\n",
    "    thiscontainer = WebDriverWait(driver, 1).until(\n",
    "        EC.visibility_of_element_located((By.CLASS_NAME, \"flex.h-8.items-center.justify-between.border-b.p-1.border-border-quaternary\"))\n",
    "    )\n",
    "    # click format code button\n",
    "    button = thiscontainer.find_element(By.CSS_SELECTOR, \"button[data-state='closed']\")\n",
    "    button.click()"
   ]
  },
  {
   "cell_type": "code",
   "execution_count": 9,
   "metadata": {},
   "outputs": [],
   "source": [
    "def scrolldown(driver):   \n",
    "    textwindow = wait_and_find_element(driver, By.CLASS_NAME, \"view-lines.monaco-mouse-cursor-text\")\n",
    "    textwindow.click()\n",
    "    # \"scroll\" down to the bottom\n",
    "    for _ in range(len(solution.split('\\n')) + 25):\n",
    "        textwindow = wait_and_find_element(driver, By.CLASS_NAME, \"view-lines.monaco-mouse-cursor-text\")\n",
    "        ActionChains(driver).move_to_element(textwindow).send_keys(Keys.ARROW_DOWN).perform()"
   ]
  },
  {
   "cell_type": "code",
   "execution_count": 10,
   "metadata": {},
   "outputs": [],
   "source": [
    "def remove_brackets(driver):\n",
    "    textwindow = wait_and_find_element(driver, By.CLASS_NAME, \"view-lines.monaco-mouse-cursor-text\")    \n",
    "    extras = solution.count('}')\n",
    "    for _ in range((extras * 2) - 1):\n",
    "        ActionChains(driver).move_to_element(textwindow).send_keys(Keys.BACKSPACE).perform()"
   ]
  },
  {
   "cell_type": "code",
   "execution_count": 12,
   "metadata": {},
   "outputs": [
    {
     "ename": "KeyboardInterrupt",
     "evalue": "",
     "output_type": "error",
     "traceback": [
      "\u001b[1;31m---------------------------------------------------------------------------\u001b[0m",
      "\u001b[1;31mKeyboardInterrupt\u001b[0m                         Traceback (most recent call last)",
      "Cell \u001b[1;32mIn[12], line 7\u001b[0m\n\u001b[0;32m      5\u001b[0m solution_input(driver,\u001b[38;5;124m'\u001b[39m\u001b[38;5;124mC++\u001b[39m\u001b[38;5;124m'\u001b[39m)\n\u001b[0;32m      6\u001b[0m click_format_button(driver)\n\u001b[1;32m----> 7\u001b[0m \u001b[43mscrolldown\u001b[49m\u001b[43m(\u001b[49m\u001b[43mdriver\u001b[49m\u001b[43m)\u001b[49m\n\u001b[0;32m      8\u001b[0m remove_brackets(driver)\n\u001b[0;32m      9\u001b[0m click_submit(driver)\n",
      "Cell \u001b[1;32mIn[9], line 7\u001b[0m, in \u001b[0;36mscrolldown\u001b[1;34m(driver)\u001b[0m\n\u001b[0;32m      5\u001b[0m \u001b[38;5;28;01mfor\u001b[39;00m _ \u001b[38;5;129;01min\u001b[39;00m \u001b[38;5;28mrange\u001b[39m(\u001b[38;5;28mlen\u001b[39m(solution\u001b[38;5;241m.\u001b[39msplit(\u001b[38;5;124m'\u001b[39m\u001b[38;5;130;01m\\n\u001b[39;00m\u001b[38;5;124m'\u001b[39m)) \u001b[38;5;241m+\u001b[39m \u001b[38;5;241m25\u001b[39m):\n\u001b[0;32m      6\u001b[0m     textwindow \u001b[38;5;241m=\u001b[39m wait_and_find_element(driver, By\u001b[38;5;241m.\u001b[39mCLASS_NAME, \u001b[38;5;124m\"\u001b[39m\u001b[38;5;124mview-lines.monaco-mouse-cursor-text\u001b[39m\u001b[38;5;124m\"\u001b[39m)\n\u001b[1;32m----> 7\u001b[0m     \u001b[43mActionChains\u001b[49m\u001b[43m(\u001b[49m\u001b[43mdriver\u001b[49m\u001b[43m)\u001b[49m\u001b[38;5;241;43m.\u001b[39;49m\u001b[43mmove_to_element\u001b[49m\u001b[43m(\u001b[49m\u001b[43mtextwindow\u001b[49m\u001b[43m)\u001b[49m\u001b[38;5;241;43m.\u001b[39;49m\u001b[43msend_keys\u001b[49m\u001b[43m(\u001b[49m\u001b[43mKeys\u001b[49m\u001b[38;5;241;43m.\u001b[39;49m\u001b[43mARROW_DOWN\u001b[49m\u001b[43m)\u001b[49m\u001b[38;5;241;43m.\u001b[39;49m\u001b[43mperform\u001b[49m\u001b[43m(\u001b[49m\u001b[43m)\u001b[49m\n",
      "File \u001b[1;32mc:\\Users\\Andre\\AppData\\Local\\Programs\\Python\\Python311\\Lib\\site-packages\\selenium\\webdriver\\common\\action_chains.py:94\u001b[0m, in \u001b[0;36mActionChains.perform\u001b[1;34m(self)\u001b[0m\n\u001b[0;32m     92\u001b[0m \u001b[38;5;28;01mdef\u001b[39;00m \u001b[38;5;21mperform\u001b[39m(\u001b[38;5;28mself\u001b[39m) \u001b[38;5;241m-\u001b[39m\u001b[38;5;241m>\u001b[39m \u001b[38;5;28;01mNone\u001b[39;00m:\n\u001b[0;32m     93\u001b[0m \u001b[38;5;250m    \u001b[39m\u001b[38;5;124;03m\"\"\"Performs all stored actions.\"\"\"\u001b[39;00m\n\u001b[1;32m---> 94\u001b[0m     \u001b[38;5;28;43mself\u001b[39;49m\u001b[38;5;241;43m.\u001b[39;49m\u001b[43mw3c_actions\u001b[49m\u001b[38;5;241;43m.\u001b[39;49m\u001b[43mperform\u001b[49m\u001b[43m(\u001b[49m\u001b[43m)\u001b[49m\n",
      "File \u001b[1;32mc:\\Users\\Andre\\AppData\\Local\\Programs\\Python\\Python311\\Lib\\site-packages\\selenium\\webdriver\\common\\actions\\action_builder.py:96\u001b[0m, in \u001b[0;36mActionBuilder.perform\u001b[1;34m(self)\u001b[0m\n\u001b[0;32m     94\u001b[0m         enc[\u001b[38;5;124m\"\u001b[39m\u001b[38;5;124mactions\u001b[39m\u001b[38;5;124m\"\u001b[39m]\u001b[38;5;241m.\u001b[39mappend(encoded)\n\u001b[0;32m     95\u001b[0m         device\u001b[38;5;241m.\u001b[39mactions \u001b[38;5;241m=\u001b[39m []\n\u001b[1;32m---> 96\u001b[0m \u001b[38;5;28;43mself\u001b[39;49m\u001b[38;5;241;43m.\u001b[39;49m\u001b[43mdriver\u001b[49m\u001b[38;5;241;43m.\u001b[39;49m\u001b[43mexecute\u001b[49m\u001b[43m(\u001b[49m\u001b[43mCommand\u001b[49m\u001b[38;5;241;43m.\u001b[39;49m\u001b[43mW3C_ACTIONS\u001b[49m\u001b[43m,\u001b[49m\u001b[43m \u001b[49m\u001b[43menc\u001b[49m\u001b[43m)\u001b[49m\n",
      "File \u001b[1;32mc:\\Users\\Andre\\AppData\\Local\\Programs\\Python\\Python311\\Lib\\site-packages\\selenium\\webdriver\\remote\\webdriver.py:345\u001b[0m, in \u001b[0;36mWebDriver.execute\u001b[1;34m(self, driver_command, params)\u001b[0m\n\u001b[0;32m    342\u001b[0m     \u001b[38;5;28;01melif\u001b[39;00m \u001b[38;5;124m\"\u001b[39m\u001b[38;5;124msessionId\u001b[39m\u001b[38;5;124m\"\u001b[39m \u001b[38;5;129;01mnot\u001b[39;00m \u001b[38;5;129;01min\u001b[39;00m params:\n\u001b[0;32m    343\u001b[0m         params[\u001b[38;5;124m\"\u001b[39m\u001b[38;5;124msessionId\u001b[39m\u001b[38;5;124m\"\u001b[39m] \u001b[38;5;241m=\u001b[39m \u001b[38;5;28mself\u001b[39m\u001b[38;5;241m.\u001b[39msession_id\n\u001b[1;32m--> 345\u001b[0m response \u001b[38;5;241m=\u001b[39m \u001b[38;5;28;43mself\u001b[39;49m\u001b[38;5;241;43m.\u001b[39;49m\u001b[43mcommand_executor\u001b[49m\u001b[38;5;241;43m.\u001b[39;49m\u001b[43mexecute\u001b[49m\u001b[43m(\u001b[49m\u001b[43mdriver_command\u001b[49m\u001b[43m,\u001b[49m\u001b[43m \u001b[49m\u001b[43mparams\u001b[49m\u001b[43m)\u001b[49m\n\u001b[0;32m    346\u001b[0m \u001b[38;5;28;01mif\u001b[39;00m response:\n\u001b[0;32m    347\u001b[0m     \u001b[38;5;28mself\u001b[39m\u001b[38;5;241m.\u001b[39merror_handler\u001b[38;5;241m.\u001b[39mcheck_response(response)\n",
      "File \u001b[1;32mc:\\Users\\Andre\\AppData\\Local\\Programs\\Python\\Python311\\Lib\\site-packages\\selenium\\webdriver\\remote\\remote_connection.py:302\u001b[0m, in \u001b[0;36mRemoteConnection.execute\u001b[1;34m(self, command, params)\u001b[0m\n\u001b[0;32m    300\u001b[0m trimmed \u001b[38;5;241m=\u001b[39m \u001b[38;5;28mself\u001b[39m\u001b[38;5;241m.\u001b[39m_trim_large_entries(params)\n\u001b[0;32m    301\u001b[0m LOGGER\u001b[38;5;241m.\u001b[39mdebug(\u001b[38;5;124m\"\u001b[39m\u001b[38;5;132;01m%s\u001b[39;00m\u001b[38;5;124m \u001b[39m\u001b[38;5;132;01m%s\u001b[39;00m\u001b[38;5;124m \u001b[39m\u001b[38;5;132;01m%s\u001b[39;00m\u001b[38;5;124m\"\u001b[39m, command_info[\u001b[38;5;241m0\u001b[39m], url, \u001b[38;5;28mstr\u001b[39m(trimmed))\n\u001b[1;32m--> 302\u001b[0m \u001b[38;5;28;01mreturn\u001b[39;00m \u001b[38;5;28;43mself\u001b[39;49m\u001b[38;5;241;43m.\u001b[39;49m\u001b[43m_request\u001b[49m\u001b[43m(\u001b[49m\u001b[43mcommand_info\u001b[49m\u001b[43m[\u001b[49m\u001b[38;5;241;43m0\u001b[39;49m\u001b[43m]\u001b[49m\u001b[43m,\u001b[49m\u001b[43m \u001b[49m\u001b[43murl\u001b[49m\u001b[43m,\u001b[49m\u001b[43m \u001b[49m\u001b[43mbody\u001b[49m\u001b[38;5;241;43m=\u001b[39;49m\u001b[43mdata\u001b[49m\u001b[43m)\u001b[49m\n",
      "File \u001b[1;32mc:\\Users\\Andre\\AppData\\Local\\Programs\\Python\\Python311\\Lib\\site-packages\\selenium\\webdriver\\remote\\remote_connection.py:322\u001b[0m, in \u001b[0;36mRemoteConnection._request\u001b[1;34m(self, method, url, body)\u001b[0m\n\u001b[0;32m    319\u001b[0m     body \u001b[38;5;241m=\u001b[39m \u001b[38;5;28;01mNone\u001b[39;00m\n\u001b[0;32m    321\u001b[0m \u001b[38;5;28;01mif\u001b[39;00m \u001b[38;5;28mself\u001b[39m\u001b[38;5;241m.\u001b[39mkeep_alive:\n\u001b[1;32m--> 322\u001b[0m     response \u001b[38;5;241m=\u001b[39m \u001b[38;5;28;43mself\u001b[39;49m\u001b[38;5;241;43m.\u001b[39;49m\u001b[43m_conn\u001b[49m\u001b[38;5;241;43m.\u001b[39;49m\u001b[43mrequest\u001b[49m\u001b[43m(\u001b[49m\u001b[43mmethod\u001b[49m\u001b[43m,\u001b[49m\u001b[43m \u001b[49m\u001b[43murl\u001b[49m\u001b[43m,\u001b[49m\u001b[43m \u001b[49m\u001b[43mbody\u001b[49m\u001b[38;5;241;43m=\u001b[39;49m\u001b[43mbody\u001b[49m\u001b[43m,\u001b[49m\u001b[43m \u001b[49m\u001b[43mheaders\u001b[49m\u001b[38;5;241;43m=\u001b[39;49m\u001b[43mheaders\u001b[49m\u001b[43m)\u001b[49m\n\u001b[0;32m    323\u001b[0m     statuscode \u001b[38;5;241m=\u001b[39m response\u001b[38;5;241m.\u001b[39mstatus\n\u001b[0;32m    324\u001b[0m \u001b[38;5;28;01melse\u001b[39;00m:\n",
      "File \u001b[1;32mc:\\Users\\Andre\\AppData\\Local\\Programs\\Python\\Python311\\Lib\\site-packages\\urllib3\\_request_methods.py:144\u001b[0m, in \u001b[0;36mRequestMethods.request\u001b[1;34m(self, method, url, body, fields, headers, json, **urlopen_kw)\u001b[0m\n\u001b[0;32m    136\u001b[0m     \u001b[38;5;28;01mreturn\u001b[39;00m \u001b[38;5;28mself\u001b[39m\u001b[38;5;241m.\u001b[39mrequest_encode_url(\n\u001b[0;32m    137\u001b[0m         method,\n\u001b[0;32m    138\u001b[0m         url,\n\u001b[1;32m   (...)\u001b[0m\n\u001b[0;32m    141\u001b[0m         \u001b[38;5;241m*\u001b[39m\u001b[38;5;241m*\u001b[39murlopen_kw,\n\u001b[0;32m    142\u001b[0m     )\n\u001b[0;32m    143\u001b[0m \u001b[38;5;28;01melse\u001b[39;00m:\n\u001b[1;32m--> 144\u001b[0m     \u001b[38;5;28;01mreturn\u001b[39;00m \u001b[38;5;28;43mself\u001b[39;49m\u001b[38;5;241;43m.\u001b[39;49m\u001b[43mrequest_encode_body\u001b[49m\u001b[43m(\u001b[49m\n\u001b[0;32m    145\u001b[0m \u001b[43m        \u001b[49m\u001b[43mmethod\u001b[49m\u001b[43m,\u001b[49m\u001b[43m \u001b[49m\u001b[43murl\u001b[49m\u001b[43m,\u001b[49m\u001b[43m \u001b[49m\u001b[43mfields\u001b[49m\u001b[38;5;241;43m=\u001b[39;49m\u001b[43mfields\u001b[49m\u001b[43m,\u001b[49m\u001b[43m \u001b[49m\u001b[43mheaders\u001b[49m\u001b[38;5;241;43m=\u001b[39;49m\u001b[43mheaders\u001b[49m\u001b[43m,\u001b[49m\u001b[43m \u001b[49m\u001b[38;5;241;43m*\u001b[39;49m\u001b[38;5;241;43m*\u001b[39;49m\u001b[43murlopen_kw\u001b[49m\n\u001b[0;32m    146\u001b[0m \u001b[43m    \u001b[49m\u001b[43m)\u001b[49m\n",
      "File \u001b[1;32mc:\\Users\\Andre\\AppData\\Local\\Programs\\Python\\Python311\\Lib\\site-packages\\urllib3\\_request_methods.py:279\u001b[0m, in \u001b[0;36mRequestMethods.request_encode_body\u001b[1;34m(self, method, url, fields, headers, encode_multipart, multipart_boundary, **urlopen_kw)\u001b[0m\n\u001b[0;32m    275\u001b[0m     extra_kw[\u001b[38;5;124m\"\u001b[39m\u001b[38;5;124mheaders\u001b[39m\u001b[38;5;124m\"\u001b[39m]\u001b[38;5;241m.\u001b[39msetdefault(\u001b[38;5;124m\"\u001b[39m\u001b[38;5;124mContent-Type\u001b[39m\u001b[38;5;124m\"\u001b[39m, content_type)\n\u001b[0;32m    277\u001b[0m extra_kw\u001b[38;5;241m.\u001b[39mupdate(urlopen_kw)\n\u001b[1;32m--> 279\u001b[0m \u001b[38;5;28;01mreturn\u001b[39;00m \u001b[38;5;28;43mself\u001b[39;49m\u001b[38;5;241;43m.\u001b[39;49m\u001b[43murlopen\u001b[49m\u001b[43m(\u001b[49m\u001b[43mmethod\u001b[49m\u001b[43m,\u001b[49m\u001b[43m \u001b[49m\u001b[43murl\u001b[49m\u001b[43m,\u001b[49m\u001b[43m \u001b[49m\u001b[38;5;241;43m*\u001b[39;49m\u001b[38;5;241;43m*\u001b[39;49m\u001b[43mextra_kw\u001b[49m\u001b[43m)\u001b[49m\n",
      "File \u001b[1;32mc:\\Users\\Andre\\AppData\\Local\\Programs\\Python\\Python311\\Lib\\site-packages\\urllib3\\poolmanager.py:444\u001b[0m, in \u001b[0;36mPoolManager.urlopen\u001b[1;34m(self, method, url, redirect, **kw)\u001b[0m\n\u001b[0;32m    442\u001b[0m     response \u001b[38;5;241m=\u001b[39m conn\u001b[38;5;241m.\u001b[39murlopen(method, url, \u001b[38;5;241m*\u001b[39m\u001b[38;5;241m*\u001b[39mkw)\n\u001b[0;32m    443\u001b[0m \u001b[38;5;28;01melse\u001b[39;00m:\n\u001b[1;32m--> 444\u001b[0m     response \u001b[38;5;241m=\u001b[39m \u001b[43mconn\u001b[49m\u001b[38;5;241;43m.\u001b[39;49m\u001b[43murlopen\u001b[49m\u001b[43m(\u001b[49m\u001b[43mmethod\u001b[49m\u001b[43m,\u001b[49m\u001b[43m \u001b[49m\u001b[43mu\u001b[49m\u001b[38;5;241;43m.\u001b[39;49m\u001b[43mrequest_uri\u001b[49m\u001b[43m,\u001b[49m\u001b[43m \u001b[49m\u001b[38;5;241;43m*\u001b[39;49m\u001b[38;5;241;43m*\u001b[39;49m\u001b[43mkw\u001b[49m\u001b[43m)\u001b[49m\n\u001b[0;32m    446\u001b[0m redirect_location \u001b[38;5;241m=\u001b[39m redirect \u001b[38;5;129;01mand\u001b[39;00m response\u001b[38;5;241m.\u001b[39mget_redirect_location()\n\u001b[0;32m    447\u001b[0m \u001b[38;5;28;01mif\u001b[39;00m \u001b[38;5;129;01mnot\u001b[39;00m redirect_location:\n",
      "File \u001b[1;32mc:\\Users\\Andre\\AppData\\Local\\Programs\\Python\\Python311\\Lib\\site-packages\\urllib3\\connectionpool.py:793\u001b[0m, in \u001b[0;36mHTTPConnectionPool.urlopen\u001b[1;34m(self, method, url, body, headers, retries, redirect, assert_same_host, timeout, pool_timeout, release_conn, chunked, body_pos, preload_content, decode_content, **response_kw)\u001b[0m\n\u001b[0;32m    790\u001b[0m response_conn \u001b[38;5;241m=\u001b[39m conn \u001b[38;5;28;01mif\u001b[39;00m \u001b[38;5;129;01mnot\u001b[39;00m release_conn \u001b[38;5;28;01melse\u001b[39;00m \u001b[38;5;28;01mNone\u001b[39;00m\n\u001b[0;32m    792\u001b[0m \u001b[38;5;66;03m# Make the request on the HTTPConnection object\u001b[39;00m\n\u001b[1;32m--> 793\u001b[0m response \u001b[38;5;241m=\u001b[39m \u001b[38;5;28;43mself\u001b[39;49m\u001b[38;5;241;43m.\u001b[39;49m\u001b[43m_make_request\u001b[49m\u001b[43m(\u001b[49m\n\u001b[0;32m    794\u001b[0m \u001b[43m    \u001b[49m\u001b[43mconn\u001b[49m\u001b[43m,\u001b[49m\n\u001b[0;32m    795\u001b[0m \u001b[43m    \u001b[49m\u001b[43mmethod\u001b[49m\u001b[43m,\u001b[49m\n\u001b[0;32m    796\u001b[0m \u001b[43m    \u001b[49m\u001b[43murl\u001b[49m\u001b[43m,\u001b[49m\n\u001b[0;32m    797\u001b[0m \u001b[43m    \u001b[49m\u001b[43mtimeout\u001b[49m\u001b[38;5;241;43m=\u001b[39;49m\u001b[43mtimeout_obj\u001b[49m\u001b[43m,\u001b[49m\n\u001b[0;32m    798\u001b[0m \u001b[43m    \u001b[49m\u001b[43mbody\u001b[49m\u001b[38;5;241;43m=\u001b[39;49m\u001b[43mbody\u001b[49m\u001b[43m,\u001b[49m\n\u001b[0;32m    799\u001b[0m \u001b[43m    \u001b[49m\u001b[43mheaders\u001b[49m\u001b[38;5;241;43m=\u001b[39;49m\u001b[43mheaders\u001b[49m\u001b[43m,\u001b[49m\n\u001b[0;32m    800\u001b[0m \u001b[43m    \u001b[49m\u001b[43mchunked\u001b[49m\u001b[38;5;241;43m=\u001b[39;49m\u001b[43mchunked\u001b[49m\u001b[43m,\u001b[49m\n\u001b[0;32m    801\u001b[0m \u001b[43m    \u001b[49m\u001b[43mretries\u001b[49m\u001b[38;5;241;43m=\u001b[39;49m\u001b[43mretries\u001b[49m\u001b[43m,\u001b[49m\n\u001b[0;32m    802\u001b[0m \u001b[43m    \u001b[49m\u001b[43mresponse_conn\u001b[49m\u001b[38;5;241;43m=\u001b[39;49m\u001b[43mresponse_conn\u001b[49m\u001b[43m,\u001b[49m\n\u001b[0;32m    803\u001b[0m \u001b[43m    \u001b[49m\u001b[43mpreload_content\u001b[49m\u001b[38;5;241;43m=\u001b[39;49m\u001b[43mpreload_content\u001b[49m\u001b[43m,\u001b[49m\n\u001b[0;32m    804\u001b[0m \u001b[43m    \u001b[49m\u001b[43mdecode_content\u001b[49m\u001b[38;5;241;43m=\u001b[39;49m\u001b[43mdecode_content\u001b[49m\u001b[43m,\u001b[49m\n\u001b[0;32m    805\u001b[0m \u001b[43m    \u001b[49m\u001b[38;5;241;43m*\u001b[39;49m\u001b[38;5;241;43m*\u001b[39;49m\u001b[43mresponse_kw\u001b[49m\u001b[43m,\u001b[49m\n\u001b[0;32m    806\u001b[0m \u001b[43m\u001b[49m\u001b[43m)\u001b[49m\n\u001b[0;32m    808\u001b[0m \u001b[38;5;66;03m# Everything went great!\u001b[39;00m\n\u001b[0;32m    809\u001b[0m clean_exit \u001b[38;5;241m=\u001b[39m \u001b[38;5;28;01mTrue\u001b[39;00m\n",
      "File \u001b[1;32mc:\\Users\\Andre\\AppData\\Local\\Programs\\Python\\Python311\\Lib\\site-packages\\urllib3\\connectionpool.py:537\u001b[0m, in \u001b[0;36mHTTPConnectionPool._make_request\u001b[1;34m(self, conn, method, url, body, headers, retries, timeout, chunked, response_conn, preload_content, decode_content, enforce_content_length)\u001b[0m\n\u001b[0;32m    535\u001b[0m \u001b[38;5;66;03m# Receive the response from the server\u001b[39;00m\n\u001b[0;32m    536\u001b[0m \u001b[38;5;28;01mtry\u001b[39;00m:\n\u001b[1;32m--> 537\u001b[0m     response \u001b[38;5;241m=\u001b[39m \u001b[43mconn\u001b[49m\u001b[38;5;241;43m.\u001b[39;49m\u001b[43mgetresponse\u001b[49m\u001b[43m(\u001b[49m\u001b[43m)\u001b[49m\n\u001b[0;32m    538\u001b[0m \u001b[38;5;28;01mexcept\u001b[39;00m (BaseSSLError, \u001b[38;5;167;01mOSError\u001b[39;00m) \u001b[38;5;28;01mas\u001b[39;00m e:\n\u001b[0;32m    539\u001b[0m     \u001b[38;5;28mself\u001b[39m\u001b[38;5;241m.\u001b[39m_raise_timeout(err\u001b[38;5;241m=\u001b[39me, url\u001b[38;5;241m=\u001b[39murl, timeout_value\u001b[38;5;241m=\u001b[39mread_timeout)\n",
      "File \u001b[1;32mc:\\Users\\Andre\\AppData\\Local\\Programs\\Python\\Python311\\Lib\\site-packages\\urllib3\\connection.py:466\u001b[0m, in \u001b[0;36mHTTPConnection.getresponse\u001b[1;34m(self)\u001b[0m\n\u001b[0;32m    463\u001b[0m \u001b[38;5;28;01mfrom\u001b[39;00m \u001b[38;5;21;01m.\u001b[39;00m\u001b[38;5;21;01mresponse\u001b[39;00m \u001b[38;5;28;01mimport\u001b[39;00m HTTPResponse\n\u001b[0;32m    465\u001b[0m \u001b[38;5;66;03m# Get the response from http.client.HTTPConnection\u001b[39;00m\n\u001b[1;32m--> 466\u001b[0m httplib_response \u001b[38;5;241m=\u001b[39m \u001b[38;5;28;43msuper\u001b[39;49m\u001b[43m(\u001b[49m\u001b[43m)\u001b[49m\u001b[38;5;241;43m.\u001b[39;49m\u001b[43mgetresponse\u001b[49m\u001b[43m(\u001b[49m\u001b[43m)\u001b[49m\n\u001b[0;32m    468\u001b[0m \u001b[38;5;28;01mtry\u001b[39;00m:\n\u001b[0;32m    469\u001b[0m     assert_header_parsing(httplib_response\u001b[38;5;241m.\u001b[39mmsg)\n",
      "File \u001b[1;32mc:\\Users\\Andre\\AppData\\Local\\Programs\\Python\\Python311\\Lib\\http\\client.py:1374\u001b[0m, in \u001b[0;36mHTTPConnection.getresponse\u001b[1;34m(self)\u001b[0m\n\u001b[0;32m   1372\u001b[0m \u001b[38;5;28;01mtry\u001b[39;00m:\n\u001b[0;32m   1373\u001b[0m     \u001b[38;5;28;01mtry\u001b[39;00m:\n\u001b[1;32m-> 1374\u001b[0m         \u001b[43mresponse\u001b[49m\u001b[38;5;241;43m.\u001b[39;49m\u001b[43mbegin\u001b[49m\u001b[43m(\u001b[49m\u001b[43m)\u001b[49m\n\u001b[0;32m   1375\u001b[0m     \u001b[38;5;28;01mexcept\u001b[39;00m \u001b[38;5;167;01mConnectionError\u001b[39;00m:\n\u001b[0;32m   1376\u001b[0m         \u001b[38;5;28mself\u001b[39m\u001b[38;5;241m.\u001b[39mclose()\n",
      "File \u001b[1;32mc:\\Users\\Andre\\AppData\\Local\\Programs\\Python\\Python311\\Lib\\http\\client.py:318\u001b[0m, in \u001b[0;36mHTTPResponse.begin\u001b[1;34m(self)\u001b[0m\n\u001b[0;32m    316\u001b[0m \u001b[38;5;66;03m# read until we get a non-100 response\u001b[39;00m\n\u001b[0;32m    317\u001b[0m \u001b[38;5;28;01mwhile\u001b[39;00m \u001b[38;5;28;01mTrue\u001b[39;00m:\n\u001b[1;32m--> 318\u001b[0m     version, status, reason \u001b[38;5;241m=\u001b[39m \u001b[38;5;28;43mself\u001b[39;49m\u001b[38;5;241;43m.\u001b[39;49m\u001b[43m_read_status\u001b[49m\u001b[43m(\u001b[49m\u001b[43m)\u001b[49m\n\u001b[0;32m    319\u001b[0m     \u001b[38;5;28;01mif\u001b[39;00m status \u001b[38;5;241m!=\u001b[39m CONTINUE:\n\u001b[0;32m    320\u001b[0m         \u001b[38;5;28;01mbreak\u001b[39;00m\n",
      "File \u001b[1;32mc:\\Users\\Andre\\AppData\\Local\\Programs\\Python\\Python311\\Lib\\http\\client.py:279\u001b[0m, in \u001b[0;36mHTTPResponse._read_status\u001b[1;34m(self)\u001b[0m\n\u001b[0;32m    278\u001b[0m \u001b[38;5;28;01mdef\u001b[39;00m \u001b[38;5;21m_read_status\u001b[39m(\u001b[38;5;28mself\u001b[39m):\n\u001b[1;32m--> 279\u001b[0m     line \u001b[38;5;241m=\u001b[39m \u001b[38;5;28mstr\u001b[39m(\u001b[38;5;28mself\u001b[39m\u001b[38;5;241m.\u001b[39mfp\u001b[38;5;241m.\u001b[39mreadline(_MAXLINE \u001b[38;5;241m+\u001b[39m \u001b[38;5;241m1\u001b[39m), \u001b[38;5;124m\"\u001b[39m\u001b[38;5;124miso-8859-1\u001b[39m\u001b[38;5;124m\"\u001b[39m)\n\u001b[0;32m    280\u001b[0m     \u001b[38;5;28;01mif\u001b[39;00m \u001b[38;5;28mlen\u001b[39m(line) \u001b[38;5;241m>\u001b[39m _MAXLINE:\n\u001b[0;32m    281\u001b[0m         \u001b[38;5;28;01mraise\u001b[39;00m LineTooLong(\u001b[38;5;124m\"\u001b[39m\u001b[38;5;124mstatus line\u001b[39m\u001b[38;5;124m\"\u001b[39m)\n",
      "File \u001b[1;32mc:\\Users\\Andre\\AppData\\Local\\Programs\\Python\\Python311\\Lib\\socket.py:706\u001b[0m, in \u001b[0;36mSocketIO.readinto\u001b[1;34m(self, b)\u001b[0m\n\u001b[0;32m    704\u001b[0m \u001b[38;5;28;01mwhile\u001b[39;00m \u001b[38;5;28;01mTrue\u001b[39;00m:\n\u001b[0;32m    705\u001b[0m     \u001b[38;5;28;01mtry\u001b[39;00m:\n\u001b[1;32m--> 706\u001b[0m         \u001b[38;5;28;01mreturn\u001b[39;00m \u001b[38;5;28;43mself\u001b[39;49m\u001b[38;5;241;43m.\u001b[39;49m\u001b[43m_sock\u001b[49m\u001b[38;5;241;43m.\u001b[39;49m\u001b[43mrecv_into\u001b[49m\u001b[43m(\u001b[49m\u001b[43mb\u001b[49m\u001b[43m)\u001b[49m\n\u001b[0;32m    707\u001b[0m     \u001b[38;5;28;01mexcept\u001b[39;00m timeout:\n\u001b[0;32m    708\u001b[0m         \u001b[38;5;28mself\u001b[39m\u001b[38;5;241m.\u001b[39m_timeout_occurred \u001b[38;5;241m=\u001b[39m \u001b[38;5;28;01mTrue\u001b[39;00m\n",
      "\u001b[1;31mKeyboardInterrupt\u001b[0m: "
     ]
    }
   ],
   "source": [
    "\n",
    "\n",
    "while True:\n",
    "\n",
    "    click_next_button(driver)\n",
    "    handle_subscribe_popup(driver)\n",
    "    solution_input(driver,'C++')\n",
    "    click_format_button(driver)\n",
    "    scrolldown(driver)\n",
    "    remove_brackets(driver)\n",
    "    click_submit(driver)"
   ]
  },
  {
   "cell_type": "code",
   "execution_count": null,
   "metadata": {},
   "outputs": [],
   "source": []
  },
  {
   "cell_type": "code",
   "execution_count": 258,
   "metadata": {},
   "outputs": [
    {
     "data": {
      "text/plain": [
       "0"
      ]
     },
     "execution_count": 258,
     "metadata": {},
     "output_type": "execute_result"
    }
   ],
   "source": [
    "\n",
    "\n",
    "(-2147483648 % 4)"
   ]
  }
 ],
 "metadata": {
  "kernelspec": {
   "display_name": "Python 3",
   "language": "python",
   "name": "python3"
  },
  "language_info": {
   "codemirror_mode": {
    "name": "ipython",
    "version": 3
   },
   "file_extension": ".py",
   "mimetype": "text/x-python",
   "name": "python",
   "nbconvert_exporter": "python",
   "pygments_lexer": "ipython3",
   "version": "3.11.2"
  }
 },
 "nbformat": 4,
 "nbformat_minor": 2
}
