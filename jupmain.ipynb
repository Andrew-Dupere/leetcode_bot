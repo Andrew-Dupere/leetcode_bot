{
 "cells": [
  {
   "cell_type": "code",
   "execution_count": 54,
   "metadata": {},
   "outputs": [],
   "source": [
    "from selenium import webdriver\n",
    "from selenium.webdriver.common.by import By\n",
    "from selenium.webdriver.common.action_chains import ActionChains\n",
    "from selenium.webdriver.common.keys import Keys\n",
    "from selenium.webdriver.support.ui import WebDriverWait\n",
    "from selenium.webdriver.support import expected_conditions as EC\n",
    "import time\n",
    "import dep.arcturis as arc\n",
    "import gpt as kadabra\n",
    "\n",
    "from openai import OpenAI"
   ]
  },
  {
   "cell_type": "code",
   "execution_count": 55,
   "metadata": {},
   "outputs": [],
   "source": [
    "#initializaion, login and problem select\n",
    "client = OpenAI()\n",
    "\n",
    "language = 'C++'\n",
    "\n",
    "options = webdriver.FirefoxOptions()\n",
    "driver = webdriver.Firefox(options=options)\n",
    "driver.get(\"https://leetcode.com/accounts/login/\")\n",
    "\n",
    "\n",
    "def wait_and_find_element(driver, by, value):\n",
    "    return WebDriverWait(driver, 10).until(EC.presence_of_element_located((by, value)))\n",
    "\n",
    "login_field = wait_and_find_element(driver, By.ID, \"id_login\")\n",
    "login_field.send_keys(arc.e)\n",
    "\n",
    "password_field = wait_and_find_element(driver, By.ID, \"id_password\")\n",
    "password_field.send_keys(arc.p)\n",
    "\n",
    "EC.element_to_be_clickable((By.XPATH, \"//div[@class='btn-content-container__2HVS']/span[text()='Sign In']\"))\n",
    "WebDriverWait(driver, 10).until(EC.invisibility_of_element_located((By.ID, \"initial-loading\")))\n",
    "\n",
    "# Find the \"Sign In\" button\n",
    "sign_in_button = wait_and_find_element(driver,By.XPATH, \"//div[@class='btn-content-container__2HVS']/span[text()='Sign In']\")\n",
    "\n",
    "driver.execute_script(\"arguments[0].scrollIntoView(true);\", sign_in_button)\n",
    "\n",
    "time.sleep(5)\n",
    "sign_in_button.click()\n",
    "time.sleep(3)\n",
    "\n",
    "\n",
    "problems = wait_and_find_element(driver, By.XPATH,\"//a[@href='/problemset/all/']\")\n",
    "problems.click()\n",
    "\n",
    "pickone = wait_and_find_element(driver, By.XPATH,\"//div[contains(@class, 'ml-auto')]\")\n",
    "# Click the button  \n",
    "pickone.click()"
   ]
  },
  {
   "cell_type": "code",
   "execution_count": 5,
   "metadata": {},
   "outputs": [],
   "source": [
    "#pophandler loop\n",
    "def click_next_button(driver):\n",
    "    #find all of the elements in the navbar with \"cursor-pointer\" and click the 3rd one (next problem)\n",
    "    navbar = wait_and_find_element(driver, By.CLASS_NAME,\"z-nav-1\")\n",
    "    buttons = navbar.find_elements(By.CLASS_NAME,\"cursor-pointer\")\n",
    "    buttons[2].click()  \n",
    "\n",
    "def handle_subscribe_popup(driver):\n",
    "    while True:\n",
    "        try:\n",
    "            # Check for the subscribe popup\n",
    "            subscribe_popup = WebDriverWait(driver, 4).until(                \n",
    "                EC.visibility_of_element_located((By.XPATH, \"//div[contains(text(), 'Subscribe to unlock.')]\"))\n",
    "            )\n",
    "\n",
    "            click_next_button(driver)\n",
    "                \n",
    "\n",
    "        except:\n",
    "            # If the subscribe popup is not found, break out of the loop\n",
    "            break\n",
    "\n",
    "  \n",
    "\n",
    "#need to check language and continue looping through pop up check\n",
    "handle_subscribe_popup(driver)\n"
   ]
  },
  {
   "cell_type": "code",
   "execution_count": 42,
   "metadata": {},
   "outputs": [
    {
     "name": "stdout",
     "output_type": "stream",
     "text": [
      "C++\n"
     ]
    }
   ],
   "source": [
    "#language checker\n",
    "\n",
    "\n",
    "# Find the button element within the div element\n",
    "button = wait_and_find_element(driver, By.CSS_SELECTOR, \".rounded.items-center.whitespace-nowrap.focus\\\\:outline-none.inline-flex.bg-transparent.dark\\\\:bg-dark-transparent.text-text-secondary.dark\\\\:text-text-secondary.active\\\\:bg-transparent.dark\\\\:active\\\\:bg-dark-transparent.hover\\\\:bg-fill-secondary.dark\\\\:hover\\\\:bg-fill-secondary.px-1\\\\.5.py-0\\\\.5.text-sm.font-normal.group\")\n",
    "\n",
    "# Print the text of the button\n",
    "print(button.text)\n",
    "\n",
    "time.sleep(4)\n",
    "button.click()\n",
    "\n",
    "element = wait_and_find_element(driver, By.XPATH, \"//div[contains(text(), 'C++')]\")\n",
    "time.sleep(4)\n",
    "# Click the element\n",
    "element.click()\n"
   ]
  },
  {
   "cell_type": "code",
   "execution_count": null,
   "metadata": {},
   "outputs": [],
   "source": []
  },
  {
   "cell_type": "code",
   "execution_count": 56,
   "metadata": {},
   "outputs": [
    {
     "name": "stdout",
     "output_type": "stream",
     "text": [
      "class Solution {\n",
      "public:\n",
      "    int countNicePairs(vector<int>& nums) {\n",
      "            }\n",
      "};\n"
     ]
    }
   ],
   "source": [
    "def solution_ai(driver):\n",
    "    #extract the text in the problem, send it into the gpt prompt, clear the field, input sol \n",
    "\n",
    "    description_element = wait_and_find_element(driver,By.CLASS_NAME,'elfjS')\n",
    "    description_text = description_element.text\n",
    "\n",
    "    code_block_element = wait_and_find_element(driver,By.CSS_SELECTOR,'.view-lines')\n",
    "   \n",
    "    code_block_text = code_block_element.text\n",
    "\n",
    "    line_elements = code_block_element.find_elements(By.CLASS_NAME, 'view-line')\n",
    "\n",
    "    sol = kadabra.main(f\"I would like you to solve a problem in {language}, please only return code, do not inlcude any additional text and do not add comments within the code. Here is the description of the problem: {description_text} and use this format to provide the solution {code_block_text}\")\n",
    "\n",
    "    container = wait_and_find_element(driver, By.CLASS_NAME, \"view-lines.monaco-mouse-cursor-text\")\n",
    "    #clear cells\n",
    "    driver.execute_script(\"arguments[0].innerText = '';\", container)\n",
    "    block_of_text = sol\n",
    "    #use javascript to import solutions\n",
    "    driver.execute_script(\"arguments[0].innerText = arguments[1];\", container, block_of_text)\n"
   ]
  },
  {
   "cell_type": "code",
   "execution_count": null,
   "metadata": {},
   "outputs": [],
   "source": [
    "# sol = kadabra.main(f\"I would like you to solve a problem in {language}, please only return code, do not inlcude any additional text and do not add comments within the code. Here is the description of the problem: {description_text} and use this format to provide the solution {code_block_text}\")\n",
    "\n",
    "# print(sol) "
   ]
  },
  {
   "cell_type": "code",
   "execution_count": 82,
   "metadata": {},
   "outputs": [],
   "source": [
    "###insertsolution block##\n",
    "\n",
    "container = wait_and_find_element(driver, By.CLASS_NAME, \"view-lines.monaco-mouse-cursor-text\")\n",
    "#clear cells\n",
    "driver.execute_script(\"arguments[0].innerText = '';\", container)\n",
    "block_of_text = sol\n",
    "#use javascript to import solutions\n",
    "driver.execute_script(\"arguments[0].innerText = arguments[1];\", container, block_of_text)\n"
   ]
  },
  {
   "cell_type": "code",
   "execution_count": 83,
   "metadata": {},
   "outputs": [],
   "source": [
    "def click_submit(driver)\n",
    "    #click submit \n",
    "    submit = wait_and_find_element(driver,By.CSS_SELECTOR, \"button[data-e2e-locator='console-submit-button']\")\n",
    "    submit.click()\n",
    "\n",
    "\n"
   ]
  }
 ],
 "metadata": {
  "kernelspec": {
   "display_name": "Python 3",
   "language": "python",
   "name": "python3"
  },
  "language_info": {
   "codemirror_mode": {
    "name": "ipython",
    "version": 3
   },
   "file_extension": ".py",
   "mimetype": "text/x-python",
   "name": "python",
   "nbconvert_exporter": "python",
   "pygments_lexer": "ipython3",
   "version": "3.11.2"
  }
 },
 "nbformat": 4,
 "nbformat_minor": 2
}
